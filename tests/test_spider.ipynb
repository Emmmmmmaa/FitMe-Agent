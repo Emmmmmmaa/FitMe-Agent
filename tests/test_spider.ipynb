{
 "cells": [
  {
   "cell_type": "code",
   "execution_count": 3,
   "metadata": {},
   "outputs": [
    {
     "name": "stdout",
     "output_type": "stream",
     "text": [
      "{'title': '标题未找到', 'price': '价格未找到'}\n"
     ]
    }
   ],
   "source": [
    "\n",
    "import requests\n",
    "from bs4 import BeautifulSoup\n",
    "\n",
    "def get_taobao_product_details(url):\n",
    "    # 设置请求头，模拟浏览器访问\n",
    "    headers = {\n",
    "        'User-Agent': 'Mozilla/5.0 (Windows NT 10.0; Win64; x64) AppleWebKit/537.36 (KHTML, like Gecko) Chrome/58.0.3029.110 Safari/537.3'\n",
    "    }\n",
    "\n",
    "    # 发送GET请求\n",
    "    response = requests.get(url, headers=headers)\n",
    "    with open('taobao_response_2.html', 'w', encoding='utf-8') as f:\n",
    "        f.write(response.text)\n",
    "\n",
    "    # 检查响应状态码\n",
    "    if response.status_code == 200:\n",
    "        # 使用BeautifulSoup解析HTML\n",
    "        soup = BeautifulSoup(response.text, 'html.parser')\n",
    "\n",
    "        # 根据淘宝页面结构提取商品信息\n",
    "        # 注意：这里的选择器可能需要根据实际页面结构进行调整\n",
    "        title = soup.select_one('.tb-main-title').text.strip() if soup.select_one('.tb-main-title') else '标题未找到'\n",
    "        price = soup.select_one('.tb-rmb-num').text.strip() if soup.select_one('.tb-rmb-num') else '价格未找到'\n",
    "\n",
    "        # 返回商品详情\n",
    "        return {\n",
    "            'title': title,\n",
    "            'price': price\n",
    "        }\n",
    "    else:\n",
    "        # 如果请求失败，返回错误信息\n",
    "        return '请求失败，状态码：' + str(response.status_code)\n",
    "\n",
    "# 使用示例\n",
    "product_url = 'https://item.taobao.com/item.htm?spm=a21bo.jianhua%2Fa.201876.d3.5af92a89ey2Bpw&id=814664398764&xxc=ad_ct&skuId=5512096293145&utparam=%7B%22abid%22%3A%220%22%2C%22x_object_type%22%3A%22p4p_item%22%2C%22pc_pvid%22%3A%22de364914-7af7-48b1-93d0-23de22b9d29f%22%2C%22mix_group%22%3A%22%22%2C%22pc_scene%22%3A%2220001%22%2C%22aplus_abtest%22%3A%22fb804a7a66b7762cb841afdbf9cca5e9%22%2C%22tpp_buckets%22%3A%2230986%23418557%23module%22%2C%22x_object_id%22%3A814664398764%2C%22ab_info%22%3A%2230986%23418557%23-1%23%22%7D&ltk2=1745322666027jk9jtciqob6wxuw246qdl'\n",
    "details = get_taobao_product_details(product_url)\n",
    "print(details)\n"
   ]
  },
  {
   "cell_type": "code",
   "execution_count": null,
   "metadata": {},
   "outputs": [],
   "source": []
  }
 ],
 "metadata": {
  "kernelspec": {
   "display_name": "FitMe-env",
   "language": "python",
   "name": "python3"
  },
  "language_info": {
   "codemirror_mode": {
    "name": "ipython",
    "version": 3
   },
   "file_extension": ".py",
   "mimetype": "text/x-python",
   "name": "python",
   "nbconvert_exporter": "python",
   "pygments_lexer": "ipython3",
   "version": "3.10.16"
  }
 },
 "nbformat": 4,
 "nbformat_minor": 2
}
